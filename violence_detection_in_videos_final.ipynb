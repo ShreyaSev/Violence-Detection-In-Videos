{
  "metadata": {
    "colab": {
      "provenance": []
    },
    "kernelspec": {
      "name": "python3",
      "display_name": "Python 3",
      "language": "python"
    },
    "language_info": {
      "name": "python",
      "version": "3.10.13",
      "mimetype": "text/x-python",
      "codemirror_mode": {
        "name": "ipython",
        "version": 3
      },
      "pygments_lexer": "ipython3",
      "nbconvert_exporter": "python",
      "file_extension": ".py"
    },
    "kaggle": {
      "accelerator": "nvidiaTeslaT4",
      "dataSources": [
        {
          "sourceId": 397693,
          "sourceType": "datasetVersion",
          "datasetId": 176381
        },
        {
          "sourceId": 7699741,
          "sourceType": "datasetVersion",
          "datasetId": 4494466
        }
      ],
      "dockerImageVersionId": 30648,
      "isInternetEnabled": true,
      "language": "python",
      "sourceType": "notebook",
      "isGpuEnabled": true
    }
  },
  "nbformat_minor": 0,
  "nbformat": 4,
  "cells": [
    {
      "cell_type": "markdown",
      "source": [
        "# Building a video classification model Using Video Vision Transformers (ViViT)\n",
        "\n",
        "Vision Transformers are a pure transformer based approach to image classification. Vision Transformer (ViT), which, when applied\n",
        "directly to image patch sequences, can perform very well on image classification tasks.ViT also ensures the usage of significantly fewer computation resources to train.\n",
        "\n",
        "Video Vision Transformer , ViViT is an extension of vision transformer, considering the fact that each video consists of several image frames.The fundamental computation performed in this architecture is self-attention. Furthermore, ViT can be utilized for real\n",
        "time deployment due to it’s less computational efforts. This code implements the Spatio-temporal attention variant of the video vision transformer (ViViT) for the violence classification task. It aggregates Spatio-temporal tokens from the input video and encodes them using a network of transformer layers."
      ],
      "metadata": {
        "id": "Tev7uvVcg_zo"
      }
    },
    {
      "cell_type": "markdown",
      "source": [
        "## Defining the data paths"
      ],
      "metadata": {
        "execution": {
          "iopub.status.busy": "2024-02-29T13:40:55.366326Z",
          "iopub.execute_input": "2024-02-29T13:40:55.366632Z",
          "iopub.status.idle": "2024-02-29T13:40:55.370529Z",
          "shell.execute_reply.started": "2024-02-29T13:40:55.366609Z",
          "shell.execute_reply": "2024-02-29T13:40:55.369681Z"
        },
        "id": "Ye_Lfs28g_zp"
      }
    },
    {
      "cell_type": "code",
      "source": [
        "base_path = '/kaggle/input/real-life-violence-situations-dataset/Real Life Violence Dataset'\n",
        "non_violence_path = base_path + '/NonViolence'\n",
        "violence_path = base_path + '/Violence'"
      ],
      "metadata": {
        "id": "YyIXZteGAACf",
        "execution": {
          "iopub.status.busy": "2024-02-29T14:25:27.246149Z",
          "iopub.execute_input": "2024-02-29T14:25:27.246446Z",
          "iopub.status.idle": "2024-02-29T14:25:27.257049Z",
          "shell.execute_reply.started": "2024-02-29T14:25:27.246422Z",
          "shell.execute_reply": "2024-02-29T14:25:27.256264Z"
        },
        "trusted": true
      },
      "execution_count": null,
      "outputs": []
    },
    {
      "cell_type": "markdown",
      "source": [
        "## Importing the necessary packages"
      ],
      "metadata": {
        "id": "z-BQc9YHg_zq"
      }
    },
    {
      "cell_type": "code",
      "source": [
        "import os\n",
        "import shutil\n",
        "import cv2\n",
        "import math\n",
        "import random\n",
        "import numpy as np\n",
        "import datetime as dt\n",
        "import io  # Import the io module for input and output operations\n",
        "import imageio  # Import the imageio library for working with images\n",
        "import ipywidgets  # Import the ipywidgets library for creating interactive widgets\n",
        "import tensorflow as tf  # Import the TensorFlow library for machine learning\n",
        "from tensorflow import keras  # Import the Keras library from TensorFlow for neural network modeling\n",
        "from tensorflow.keras import layers  # Import the layers module from Keras for building neural network layers\n",
        "from keras.utils import to_categorical\n",
        "import pandas as pd\n",
        "from sklearn.model_selection import train_test_split\n",
        "from sklearn.metrics import classification_report\n",
        "from sklearn.metrics import confusion_matrix, ConfusionMatrixDisplay\n",
        "\n",
        "from IPython.display import HTML, display\n",
        "import time\n",
        "from base64 import b64encode\n",
        "\n",
        "import matplotlib.pyplot as plt\n",
        "plt.style.use(\"seaborn\")\n",
        "\n",
        "%matplotlib inline"
      ],
      "metadata": {
        "id": "OI_ZuZr7ASwB",
        "outputId": "87ab27d1-c6e7-4f6e-af0f-d22cbc355718",
        "execution": {
          "iopub.status.busy": "2024-02-29T14:25:31.535586Z",
          "iopub.execute_input": "2024-02-29T14:25:31.536543Z",
          "iopub.status.idle": "2024-02-29T14:25:53.059920Z",
          "shell.execute_reply.started": "2024-02-29T14:25:31.536459Z",
          "shell.execute_reply": "2024-02-29T14:25:53.058908Z"
        },
        "trusted": true
      },
      "execution_count": null,
      "outputs": [
        {
          "name": "stderr",
          "text": "2024-02-29 14:25:35.717856: E external/local_xla/xla/stream_executor/cuda/cuda_dnn.cc:9261] Unable to register cuDNN factory: Attempting to register factory for plugin cuDNN when one has already been registered\n2024-02-29 14:25:35.717969: E external/local_xla/xla/stream_executor/cuda/cuda_fft.cc:607] Unable to register cuFFT factory: Attempting to register factory for plugin cuFFT when one has already been registered\n2024-02-29 14:25:36.014731: E external/local_xla/xla/stream_executor/cuda/cuda_blas.cc:1515] Unable to register cuBLAS factory: Attempting to register factory for plugin cuBLAS when one has already been registered\n/tmp/ipykernel_34/3273527333.py:25: MatplotlibDeprecationWarning: The seaborn styles shipped by Matplotlib are deprecated since 3.6, as they no longer correspond to the styles shipped by seaborn. However, they will remain available as 'seaborn-v0_8-<style>'. Alternatively, directly use the seaborn API instead.\n  plt.style.use(\"seaborn\")\n",
          "output_type": "stream"
        }
      ]
    },
    {
      "cell_type": "markdown",
      "source": [
        "## Viewing a sample of the data"
      ],
      "metadata": {
        "id": "nOkFILEHg_zq"
      }
    },
    {
      "cell_type": "code",
      "source": [
        "# Retrieve the list of all the video files present in the Class Directory.\n",
        "NonViolence_files_names_list = os.listdir(non_violence_path)\n",
        "Violence_files_names_list = os.listdir(violence_path)\n",
        "\n",
        "# Randomly select a video file from the Classes Directory.\n",
        "Random_NonViolence_Video = random.choice(NonViolence_files_names_list)\n",
        "Random_Violence_Video = random.choice(Violence_files_names_list)"
      ],
      "metadata": {
        "id": "eFzD5hLeAZrb",
        "execution": {
          "iopub.status.busy": "2024-02-29T14:26:31.443767Z",
          "iopub.execute_input": "2024-02-29T14:26:31.444913Z",
          "iopub.status.idle": "2024-02-29T14:26:32.380959Z",
          "shell.execute_reply.started": "2024-02-29T14:26:31.444879Z",
          "shell.execute_reply": "2024-02-29T14:26:32.380159Z"
        },
        "trusted": true
      },
      "execution_count": null,
      "outputs": []
    },
    {
      "cell_type": "code",
      "source": [
        "# To Show a Video in Notebook\n",
        "def Play_Video(filepath):\n",
        "    html = ''\n",
        "    video = open(filepath,'rb').read()\n",
        "    src = 'data:video/mp4;base64,' + b64encode(video).decode()\n",
        "    html += '<video width=640 muted controls autoplay loop><source src=\"%s\" type=\"video/mp4\"></video>' % src\n",
        "    return HTML(html)"
      ],
      "metadata": {
        "id": "LM-HXAckAvTQ",
        "execution": {
          "iopub.status.busy": "2024-02-29T14:26:32.382468Z",
          "iopub.execute_input": "2024-02-29T14:26:32.382782Z",
          "iopub.status.idle": "2024-02-29T14:26:32.387605Z",
          "shell.execute_reply.started": "2024-02-29T14:26:32.382757Z",
          "shell.execute_reply": "2024-02-29T14:26:32.386742Z"
        },
        "trusted": true
      },
      "execution_count": null,
      "outputs": []
    },
    {
      "cell_type": "markdown",
      "source": [
        "## Creating a dataframe of all the file paths"
      ],
      "metadata": {
        "execution": {
          "iopub.status.busy": "2024-02-29T13:47:14.266689Z",
          "iopub.execute_input": "2024-02-29T13:47:14.267221Z",
          "iopub.status.idle": "2024-02-29T13:47:14.271443Z",
          "shell.execute_reply.started": "2024-02-29T13:47:14.267195Z",
          "shell.execute_reply": "2024-02-29T13:47:14.270251Z"
        },
        "id": "K4fFw5Chg_zr"
      }
    },
    {
      "cell_type": "code",
      "source": [
        "#filepaths of violence videos\n",
        "nv_data_paths = pd.DataFrame({\n",
        "    'file_path': [os.path.join(base_path, 'NonViolence', filename) for filename in NonViolence_files_names_list],\n",
        "    'label': 0\n",
        "})\n"
      ],
      "metadata": {
        "id": "QAj_dgpmL7Fm",
        "execution": {
          "iopub.status.busy": "2024-02-29T14:27:15.382861Z",
          "iopub.execute_input": "2024-02-29T14:27:15.383566Z",
          "iopub.status.idle": "2024-02-29T14:27:15.395762Z",
          "shell.execute_reply.started": "2024-02-29T14:27:15.383525Z",
          "shell.execute_reply": "2024-02-29T14:27:15.394645Z"
        },
        "trusted": true
      },
      "execution_count": null,
      "outputs": []
    },
    {
      "cell_type": "code",
      "source": [
        "nv_data_paths.head()"
      ],
      "metadata": {
        "id": "9XLJ_86fNGvV",
        "outputId": "e4987630-c349-4584-a3cd-51e072423e18",
        "execution": {
          "iopub.status.busy": "2024-02-29T14:27:17.212645Z",
          "iopub.execute_input": "2024-02-29T14:27:17.212994Z",
          "iopub.status.idle": "2024-02-29T14:27:17.230815Z",
          "shell.execute_reply.started": "2024-02-29T14:27:17.212966Z",
          "shell.execute_reply": "2024-02-29T14:27:17.229954Z"
        },
        "trusted": true
      },
      "execution_count": null,
      "outputs": [
        {
          "execution_count": 7,
          "output_type": "execute_result",
          "data": {
            "text/plain": "                                           file_path  label\n0  /kaggle/input/real-life-violence-situations-da...      0\n1  /kaggle/input/real-life-violence-situations-da...      0\n2  /kaggle/input/real-life-violence-situations-da...      0\n3  /kaggle/input/real-life-violence-situations-da...      0\n4  /kaggle/input/real-life-violence-situations-da...      0",
            "text/html": "<div>\n<style scoped>\n    .dataframe tbody tr th:only-of-type {\n        vertical-align: middle;\n    }\n\n    .dataframe tbody tr th {\n        vertical-align: top;\n    }\n\n    .dataframe thead th {\n        text-align: right;\n    }\n</style>\n<table border=\"1\" class=\"dataframe\">\n  <thead>\n    <tr style=\"text-align: right;\">\n      <th></th>\n      <th>file_path</th>\n      <th>label</th>\n    </tr>\n  </thead>\n  <tbody>\n    <tr>\n      <th>0</th>\n      <td>/kaggle/input/real-life-violence-situations-da...</td>\n      <td>0</td>\n    </tr>\n    <tr>\n      <th>1</th>\n      <td>/kaggle/input/real-life-violence-situations-da...</td>\n      <td>0</td>\n    </tr>\n    <tr>\n      <th>2</th>\n      <td>/kaggle/input/real-life-violence-situations-da...</td>\n      <td>0</td>\n    </tr>\n    <tr>\n      <th>3</th>\n      <td>/kaggle/input/real-life-violence-situations-da...</td>\n      <td>0</td>\n    </tr>\n    <tr>\n      <th>4</th>\n      <td>/kaggle/input/real-life-violence-situations-da...</td>\n      <td>0</td>\n    </tr>\n  </tbody>\n</table>\n</div>"
          },
          "metadata": {}
        }
      ]
    },
    {
      "cell_type": "code",
      "source": [
        "#file paths of non violence videos\n",
        "v_data_paths = pd.DataFrame({\n",
        "    'file_path': [os.path.join(base_path, 'Violence', filename) for filename in Violence_files_names_list],\n",
        "    'label': 1\n",
        "})"
      ],
      "metadata": {
        "id": "YEe_HhlFNKDK",
        "execution": {
          "iopub.status.busy": "2024-02-29T14:27:18.455822Z",
          "iopub.execute_input": "2024-02-29T14:27:18.456431Z",
          "iopub.status.idle": "2024-02-29T14:27:18.464728Z",
          "shell.execute_reply.started": "2024-02-29T14:27:18.456397Z",
          "shell.execute_reply": "2024-02-29T14:27:18.463734Z"
        },
        "trusted": true
      },
      "execution_count": null,
      "outputs": []
    },
    {
      "cell_type": "code",
      "source": [
        "# combining them into a single dataframe\n",
        "data_paths = pd.concat([nv_data_paths, v_data_paths], ignore_index=True)\n"
      ],
      "metadata": {
        "id": "H1IkYddSNQU2",
        "execution": {
          "iopub.status.busy": "2024-02-29T14:27:20.293297Z",
          "iopub.execute_input": "2024-02-29T14:27:20.294250Z",
          "iopub.status.idle": "2024-02-29T14:27:20.298841Z",
          "shell.execute_reply.started": "2024-02-29T14:27:20.294216Z",
          "shell.execute_reply": "2024-02-29T14:27:20.298008Z"
        },
        "trusted": true
      },
      "execution_count": null,
      "outputs": []
    },
    {
      "cell_type": "code",
      "source": [
        "data_paths.info()"
      ],
      "metadata": {
        "id": "09F2E4Z_NbYK",
        "outputId": "8921c691-533a-47ba-d1c0-5556f4ff6b27",
        "execution": {
          "iopub.status.busy": "2024-02-29T14:27:21.193132Z",
          "iopub.execute_input": "2024-02-29T14:27:21.193473Z",
          "iopub.status.idle": "2024-02-29T14:27:21.231963Z",
          "shell.execute_reply.started": "2024-02-29T14:27:21.193445Z",
          "shell.execute_reply": "2024-02-29T14:27:21.231027Z"
        },
        "trusted": true
      },
      "execution_count": null,
      "outputs": [
        {
          "name": "stdout",
          "text": "<class 'pandas.core.frame.DataFrame'>\nRangeIndex: 2000 entries, 0 to 1999\nData columns (total 2 columns):\n #   Column     Non-Null Count  Dtype \n---  ------     --------------  ----- \n 0   file_path  2000 non-null   object\n 1   label      2000 non-null   int64 \ndtypes: int64(1), object(1)\nmemory usage: 31.4+ KB\n",
          "output_type": "stream"
        }
      ]
    },
    {
      "cell_type": "code",
      "source": [
        "#dividing the data_paths into training and testing data using sklearn; ensuring that that there is no class imbalance by stratifying it along the y labels\n",
        "# since the transformer model is data hungry, only 10% of the data is kept for testing\n",
        "\n",
        "X_train, X_test, y_train, y_test = train_test_split(\n",
        "    data_paths['file_path'],\n",
        "    data_paths['label'],\n",
        "    test_size=0.1,\n",
        "    stratify=data_paths['label'],\n",
        "    random_state=12345\n",
        ")\n"
      ],
      "metadata": {
        "id": "1unBm2Q1NciD",
        "execution": {
          "iopub.status.busy": "2024-02-29T14:27:23.343855Z",
          "iopub.execute_input": "2024-02-29T14:27:23.344204Z",
          "iopub.status.idle": "2024-02-29T14:27:23.352950Z",
          "shell.execute_reply.started": "2024-02-29T14:27:23.344177Z",
          "shell.execute_reply": "2024-02-29T14:27:23.352019Z"
        },
        "trusted": true
      },
      "execution_count": null,
      "outputs": []
    },
    {
      "cell_type": "markdown",
      "source": [
        "## Hyperparameters for the model architecture and training"
      ],
      "metadata": {
        "id": "hSOXdsAUg_zs"
      }
    },
    {
      "cell_type": "code",
      "source": [
        "# Setting seed for reproducibility\n",
        "SEED = 42  # Set a seed value for random number generation for reproducibility\n",
        "os.environ[\"TF_CUDNN_DETERMINISTIC\"] = \"1\"  # Configure TensorFlow for deterministic behavior\n",
        "\n",
        "keras.utils.set_random_seed(SEED)  # Set the random seed for Keras operations\n",
        "\n",
        "\n",
        "# DATA\n",
        "BATCH_SIZE = 32\n",
        "AUTO = tf.data.AUTOTUNE\n",
        "INPUT_SHAPE = (16, 64, 64, 3)\n",
        "NUM_CLASSES = 2\n",
        "SEQUENCE_LENGTH = 16\n",
        "IMAGE_HEIGHT , IMAGE_WIDTH = 64, 64\n",
        "\n",
        "# OPTIMIZER\n",
        "LEARNING_RATE = 1e-3\n",
        "WEIGHT_DECAY = 1e-1\n",
        "\n",
        "# TRAINING\n",
        "EPOCHS = 100\n",
        "\n",
        "# TUBELET EMBEDDING\n",
        "PATCH_SIZE = (8, 8, 8)\n",
        "NUM_PATCHES = (INPUT_SHAPE[0] // PATCH_SIZE[0]) ** 2\n",
        "\n",
        "# ViViT ARCHITECTURE\n",
        "LAYER_NORM_EPS = 1e-6\n",
        "PROJECTION_DIM = 128\n",
        "NUM_HEADS = 16\n",
        "NUM_LAYERS = 16"
      ],
      "metadata": {
        "id": "KF7mt7heOMuP",
        "execution": {
          "iopub.status.busy": "2024-02-29T14:27:31.979976Z",
          "iopub.execute_input": "2024-02-29T14:27:31.980682Z",
          "iopub.status.idle": "2024-02-29T14:27:31.987765Z",
          "shell.execute_reply.started": "2024-02-29T14:27:31.980634Z",
          "shell.execute_reply": "2024-02-29T14:27:31.986882Z"
        },
        "trusted": true
      },
      "execution_count": null,
      "outputs": []
    },
    {
      "cell_type": "markdown",
      "source": [
        "## Function to extract frames from each video based on the sequence length - here, 16 frames are extracted from each video"
      ],
      "metadata": {
        "id": "B1I52o9Vg_zs"
      }
    },
    {
      "cell_type": "code",
      "source": [
        "def frames_extraction(video_path):\n",
        "\n",
        "    frames_list = []\n",
        "\n",
        "    # Read the Video File\n",
        "    video_reader = cv2.VideoCapture(video_path)\n",
        "\n",
        "    # Get the total number of frames in the video.\n",
        "    video_frames_count = int(video_reader.get(cv2.CAP_PROP_FRAME_COUNT))\n",
        "\n",
        "    # Calculate the the interval after which frames will be added to the list.\n",
        "    skip_frames_window = max(int(video_frames_count/SEQUENCE_LENGTH), 1)\n",
        "\n",
        "    # Iterate through the Video Frames.\n",
        "    for frame_counter in range(SEQUENCE_LENGTH):\n",
        "\n",
        "        # Set the current frame position of the video.\n",
        "        video_reader.set(cv2.CAP_PROP_POS_FRAMES, frame_counter * skip_frames_window)\n",
        "\n",
        "        # Reading the frame from the video.\n",
        "        success, frame = video_reader.read()\n",
        "\n",
        "        if not success:\n",
        "            break\n",
        "\n",
        "        # Resize the Frame to fixed height and width.\n",
        "        resized_frame = cv2.resize(frame, (IMAGE_HEIGHT, IMAGE_WIDTH))\n",
        "\n",
        "        # Normalize the resized frame\n",
        "        normalized_frame = resized_frame / 255\n",
        "\n",
        "        # Append the normalized frame into the frames list\n",
        "        frames_list.append(normalized_frame)\n",
        "\n",
        "\n",
        "    video_reader.release()\n",
        "\n",
        "    return frames_list"
      ],
      "metadata": {
        "id": "J070sr8qPJLj",
        "execution": {
          "iopub.status.busy": "2024-02-29T14:27:35.073099Z",
          "iopub.execute_input": "2024-02-29T14:27:35.073465Z",
          "iopub.status.idle": "2024-02-29T14:27:35.081209Z",
          "shell.execute_reply.started": "2024-02-29T14:27:35.073436Z",
          "shell.execute_reply": "2024-02-29T14:27:35.080239Z"
        },
        "trusted": true
      },
      "execution_count": null,
      "outputs": []
    },
    {
      "cell_type": "code",
      "source": [
        "#function to create a progress bar while fetching data\n",
        "def progress(value, max=100):\n",
        "    return HTML(\"\"\"\n",
        "        <progress\n",
        "            value='{value}'\n",
        "            max='{max}',\n",
        "            style='width: 100%'\n",
        "        >\n",
        "            {value}\n",
        "        </progress>\n",
        "    \"\"\".format(value=value, max=max))\n",
        "\n",
        "\n",
        "def create_dataset(files_list):\n",
        "    '''\n",
        "    Input: list of filepaths\n",
        "    Output: numpy array of each frame in the video\n",
        "    '''\n",
        "    max = len(files_list)\n",
        "    out = display(progress(0, max), display_id=True)\n",
        "\n",
        "    features = []\n",
        "\n",
        "    # Iterate through all the files present in the files list.\n",
        "    for i, file_name in enumerate(files_list):\n",
        "        # Extract the frames of the video file.\n",
        "        frames = frames_extraction(file_name)\n",
        "        # Chek if the extracted frames are equal to the SEQUENCE_LENGTH specified.\n",
        "        # So ignore the vides having frames less than the SEQUENCE_LENGTH.\n",
        "        if len(frames) == SEQUENCE_LENGTH:\n",
        "\n",
        "          # Append the data to their repective lists.\n",
        "          features.append(frames)\n",
        "\n",
        "\n",
        "        out.update(progress(i, max))\n",
        "    features = np.asarray(features)\n",
        "\n",
        "    return features"
      ],
      "metadata": {
        "id": "NXETDtjBS1Cq",
        "execution": {
          "iopub.status.busy": "2024-02-29T14:27:36.883958Z",
          "iopub.execute_input": "2024-02-29T14:27:36.884302Z",
          "iopub.status.idle": "2024-02-29T14:27:36.892213Z",
          "shell.execute_reply.started": "2024-02-29T14:27:36.884274Z",
          "shell.execute_reply": "2024-02-29T14:27:36.891266Z"
        },
        "trusted": true
      },
      "execution_count": null,
      "outputs": []
    },
    {
      "cell_type": "markdown",
      "source": [
        "## Prefetching the data"
      ],
      "metadata": {
        "id": "LuxlwTVZg_zs"
      }
    },
    {
      "cell_type": "code",
      "source": [
        "train_videos = create_dataset(np.array(X_train))"
      ],
      "metadata": {
        "id": "aJcyDI1hT-Vy",
        "trusted": true
      },
      "execution_count": null,
      "outputs": []
    },
    {
      "cell_type": "code",
      "source": [
        "train_videos.shape"
      ],
      "metadata": {
        "id": "c02NEVCPUICp",
        "outputId": "f23ee930-b823-43c6-d2cb-5aca8a27a052",
        "execution": {
          "iopub.status.busy": "2024-02-29T14:44:13.750388Z",
          "iopub.execute_input": "2024-02-29T14:44:13.750763Z",
          "iopub.status.idle": "2024-02-29T14:44:13.756586Z",
          "shell.execute_reply.started": "2024-02-29T14:44:13.750735Z",
          "shell.execute_reply": "2024-02-29T14:44:13.755630Z"
        },
        "trusted": true
      },
      "execution_count": null,
      "outputs": [
        {
          "execution_count": 16,
          "output_type": "execute_result",
          "data": {
            "text/plain": "(1800, 16, 64, 64, 3)"
          },
          "metadata": {}
        }
      ]
    },
    {
      "cell_type": "code",
      "source": [
        "test_videos = create_dataset(np.array(X_test))"
      ],
      "metadata": {
        "id": "CDdG7PwCccCU",
        "outputId": "96fa72c2-e036-4149-c320-d8c7544a0f9b",
        "execution": {
          "iopub.status.busy": "2024-02-29T14:44:17.532836Z",
          "iopub.execute_input": "2024-02-29T14:44:17.533228Z",
          "iopub.status.idle": "2024-02-29T14:46:20.483550Z",
          "shell.execute_reply.started": "2024-02-29T14:44:17.533194Z",
          "shell.execute_reply": "2024-02-29T14:46:20.482741Z"
        },
        "trusted": true
      },
      "execution_count": null,
      "outputs": [
        {
          "output_type": "display_data",
          "data": {
            "text/plain": "<IPython.core.display.HTML object>",
            "text/html": "\n        <progress\n            value='199'\n            max='200',\n            style='width: 100%'\n        >\n            199\n        </progress>\n    "
          },
          "metadata": {}
        }
      ]
    },
    {
      "cell_type": "code",
      "source": [
        "np.save(\"train_videos_with_ten_percent_testing.npy\",train_videos)"
      ],
      "metadata": {
        "id": "-MOpSkD5cL63",
        "execution": {
          "iopub.status.busy": "2024-02-29T14:47:50.932922Z",
          "iopub.execute_input": "2024-02-29T14:47:50.933272Z",
          "iopub.status.idle": "2024-02-29T14:47:52.898930Z",
          "shell.execute_reply.started": "2024-02-29T14:47:50.933244Z",
          "shell.execute_reply": "2024-02-29T14:47:52.897925Z"
        },
        "trusted": true
      },
      "execution_count": null,
      "outputs": []
    },
    {
      "cell_type": "code",
      "source": [
        "np.save(\"test_videos_10percent.npy\",test_videos)"
      ],
      "metadata": {
        "id": "_MLg4Ra-eQVJ",
        "execution": {
          "iopub.status.busy": "2024-02-29T14:47:52.900722Z",
          "iopub.execute_input": "2024-02-29T14:47:52.901103Z",
          "iopub.status.idle": "2024-02-29T14:47:53.139788Z",
          "shell.execute_reply.started": "2024-02-29T14:47:52.901072Z",
          "shell.execute_reply": "2024-02-29T14:47:53.138732Z"
        },
        "trusted": true
      },
      "execution_count": null,
      "outputs": []
    },
    {
      "cell_type": "code",
      "source": [
        "train_labels = np.array(y_train)\n",
        "test_labels = np.array(y_test)"
      ],
      "metadata": {
        "execution": {
          "iopub.status.busy": "2024-02-29T14:47:55.292814Z",
          "iopub.execute_input": "2024-02-29T14:47:55.293595Z",
          "iopub.status.idle": "2024-02-29T14:47:55.297861Z",
          "shell.execute_reply.started": "2024-02-29T14:47:55.293563Z",
          "shell.execute_reply": "2024-02-29T14:47:55.296975Z"
        },
        "trusted": true,
        "id": "023LP3_sg_zt"
      },
      "execution_count": null,
      "outputs": []
    },
    {
      "cell_type": "code",
      "source": [
        "@tf.function\n",
        "def preprocess(frames: tf.Tensor, label: tf.Tensor):\n",
        "    \"\"\"Preprocess the frames tensors and parse the labels.\"\"\"\n",
        "    # Preprocess images\n",
        "    frames = tf.image.convert_image_dtype(\n",
        "        frames[\n",
        "            ..., tf.newaxis\n",
        "        ],  # The new axis is to help for further processing with Conv3D layers\n",
        "        tf.float32,\n",
        "    )\n",
        "    # Parse label\n",
        "    label = tf.cast(label, tf.float32)\n",
        "    return frames, label\n",
        "\n",
        "\n",
        "def prepare_dataloader(\n",
        "    videos: np.ndarray,\n",
        "    labels: np.ndarray,\n",
        "    loader_type: str = \"train\",\n",
        "    batch_size: int = BATCH_SIZE,\n",
        "):\n",
        "    \"\"\"Utility function to prepare the dataloader.\"\"\"\n",
        "\n",
        "    labels = to_categorical(labels)\n",
        "    dataset = tf.data.Dataset.from_tensor_slices((videos, labels))\n",
        "\n",
        "    if loader_type == \"train\":\n",
        "        dataset = dataset.shuffle(BATCH_SIZE * 2)\n",
        "\n",
        "    dataloader = (\n",
        "        dataset.map(preprocess, num_parallel_calls=tf.data.AUTOTUNE)\n",
        "        .batch(batch_size)\n",
        "        .prefetch(tf.data.AUTOTUNE)\n",
        "    )\n",
        "    return dataloader,labels\n",
        "\n"
      ],
      "metadata": {
        "id": "tLJ0NVCK48uU",
        "execution": {
          "iopub.status.busy": "2024-02-29T14:48:06.113441Z",
          "iopub.execute_input": "2024-02-29T14:48:06.114275Z",
          "iopub.status.idle": "2024-02-29T14:48:06.122291Z",
          "shell.execute_reply.started": "2024-02-29T14:48:06.114245Z",
          "shell.execute_reply": "2024-02-29T14:48:06.121385Z"
        },
        "trusted": true
      },
      "execution_count": null,
      "outputs": []
    },
    {
      "cell_type": "code",
      "source": [
        "trainloader,train_labels = prepare_dataloader(train_videos, train_labels, \"train\")\n",
        "# validloader = prepare_dataloader(valid_videos, valid_labels, \"valid\")\n",
        "testloader,test_labels = prepare_dataloader(test_videos, test_labels, \"test\")"
      ],
      "metadata": {
        "execution": {
          "iopub.status.busy": "2024-02-29T14:48:07.213092Z",
          "iopub.execute_input": "2024-02-29T14:48:07.213885Z",
          "iopub.status.idle": "2024-02-29T14:48:18.438201Z",
          "shell.execute_reply.started": "2024-02-29T14:48:07.213854Z",
          "shell.execute_reply": "2024-02-29T14:48:18.437373Z"
        },
        "trusted": true,
        "id": "cYjtlgLrg_zu"
      },
      "execution_count": null,
      "outputs": []
    },
    {
      "cell_type": "markdown",
      "source": [
        "## Defining the model architecture:\n",
        "### Tubelet Embeddings\n",
        "![image.png](https://drive.google.com/uc?export=view&id=1osNwOPdfPU4Cyl_pXqvhEgDLMpzXmrx2)\n",
        "\n",
        "Non-overlapping, spatiotemporal tubes of the\n",
        "input sequences are retrieved from the video frames. These\n",
        "volumes of sequences include both temporal as well as framespecific patches. The obtained volume of patches are then\n",
        "linearly flattened to build several video encoded tokens. For a\n",
        "tubelet with dimension t × w × h, \\\n",
        "![image.png](https://drive.google.com/uc?export=view&id=1XqClRAG4lJ9ksZht9WoTRpd4lO0o0Hkz) \\\n",
        "encoded tokens are retrieved from the temporal, width and\n",
        "height dimensions respectively. This method, intuitively, integrates\n",
        "spatio-temporal information during tokenisation."
      ],
      "metadata": {
        "id": "Uf2wN3kKg_zu"
      }
    },
    {
      "cell_type": "code",
      "source": [
        "class TubeletEmbedding(layers.Layer):\n",
        "    def __init__(self, embed_dim, patch_size, **kwargs):\n",
        "        super().__init__(**kwargs)\n",
        "        self.projection = layers.Conv3D(\n",
        "            filters=embed_dim,\n",
        "            kernel_size=patch_size,\n",
        "            strides=patch_size,\n",
        "            padding=\"VALID\",\n",
        "        )\n",
        "        self.flatten = layers.Reshape(target_shape=(-1, embed_dim))\n",
        "\n",
        "    def call(self, videos):\n",
        "        projected_patches = self.projection(videos)\n",
        "        flattened_patches = self.flatten(projected_patches)\n",
        "        return flattened_patches\n"
      ],
      "metadata": {
        "id": "4XN6VqbSdpY0",
        "execution": {
          "iopub.status.busy": "2024-02-29T14:49:40.603303Z",
          "iopub.execute_input": "2024-02-29T14:49:40.604022Z",
          "iopub.status.idle": "2024-02-29T14:49:40.610227Z",
          "shell.execute_reply.started": "2024-02-29T14:49:40.603992Z",
          "shell.execute_reply": "2024-02-29T14:49:40.609257Z"
        },
        "trusted": true
      },
      "execution_count": null,
      "outputs": []
    },
    {
      "cell_type": "markdown",
      "source": [
        "## ViVit Model Architecture\n",
        "![image.png](https://drive.google.com/uc?export=view&id=1baAprV6FgmAJpOyiT7wdgFXC3Vm9j-HV)\n",
        "\n",
        "\n",
        "Since the transformer’s succeeding self-attention procedures are permutation invariant, a learned positional embedding, is also appended\n",
        "to the tokens to maintain track of their positional information.\n",
        "\n",
        "### The GELU Activation Function\n",
        "![image.png](https://drive.google.com/uc?export=view&id=1atFW_pzwg-lVUtl4s66A2dSNcUVGdK6i) \\\n",
        "\n",
        "This function is differentiable at all points (as opposed to ReLU) and thus prevents gradients from becoming 0."
      ],
      "metadata": {
        "id": "V3P7d4Vpg_zu"
      }
    },
    {
      "cell_type": "code",
      "source": [
        "class PositionalEncoder(layers.Layer):\n",
        "    def __init__(self, embed_dim, **kwargs):\n",
        "        super().__init__(**kwargs)\n",
        "        self.embed_dim = embed_dim\n",
        "\n",
        "    def build(self, input_shape):\n",
        "        _, num_tokens, _ = input_shape\n",
        "        self.position_embedding = layers.Embedding(\n",
        "            input_dim=num_tokens, output_dim=self.embed_dim\n",
        "        )\n",
        "        self.positions = tf.range(start=0, limit=num_tokens, delta=1)\n",
        "\n",
        "    def call(self, encoded_tokens):\n",
        "        # Encode the positions and add it to the encoded tokens\n",
        "        encoded_positions = self.position_embedding(self.positions)\n",
        "        encoded_tokens = encoded_tokens + encoded_positions\n",
        "        return encoded_tokens\n"
      ],
      "metadata": {
        "id": "NFgaa4Evdw00",
        "execution": {
          "iopub.status.busy": "2024-02-29T14:49:43.372871Z",
          "iopub.execute_input": "2024-02-29T14:49:43.373224Z",
          "iopub.status.idle": "2024-02-29T14:49:43.380083Z",
          "shell.execute_reply.started": "2024-02-29T14:49:43.373196Z",
          "shell.execute_reply": "2024-02-29T14:49:43.379221Z"
        },
        "trusted": true
      },
      "execution_count": null,
      "outputs": []
    },
    {
      "cell_type": "code",
      "source": [
        "def create_vivit_classifier(\n",
        "    tubelet_embedder,\n",
        "    positional_encoder,\n",
        "    input_shape=INPUT_SHAPE,\n",
        "    transformer_layers=NUM_LAYERS,\n",
        "    num_heads=NUM_HEADS,\n",
        "    embed_dim=PROJECTION_DIM,\n",
        "    layer_norm_eps=LAYER_NORM_EPS,\n",
        "    num_classes=NUM_CLASSES,\n",
        "):\n",
        "    # Define the input layer for the model\n",
        "    inputs = layers.Input(shape=input_shape)\n",
        "\n",
        "    # Create patches from the input data using the tubelet_embedder\n",
        "    patches = tubelet_embedder(inputs)\n",
        "\n",
        "    # Encode the patches using positional_encoder\n",
        "    encoded_patches = positional_encoder(patches)\n",
        "\n",
        "    # Create multiple layers of the Transformer block\n",
        "    for _ in range(transformer_layers):\n",
        "        # Layer normalization and Multi-Head Self-Attention (MHSA)\n",
        "        #dropout changed to 0.5\n",
        "        x1 = layers.LayerNormalization(epsilon=1e-6)(encoded_patches)\n",
        "        attention_output = layers.MultiHeadAttention(\n",
        "            num_heads=num_heads, key_dim=embed_dim // num_heads, dropout=0.5\n",
        "        )(x1, x1)\n",
        "\n",
        "        # Add a skip connection to the output of MHSA\n",
        "        x2 = layers.Add()([attention_output, encoded_patches])\n",
        "\n",
        "        # Layer Normalization and Multi-Layer Perceptron (MLP)\n",
        "        x3 = layers.LayerNormalization(epsilon=1e-6)(x2)\n",
        "        x3 = keras.Sequential(\n",
        "            [\n",
        "                layers.Dense(units=embed_dim * 4, activation=tf.nn.gelu),\n",
        "                layers.Dense(units=embed_dim, activation=tf.nn.gelu),\n",
        "            ]\n",
        "        )(x3)\n",
        "\n",
        "        # Add another skip connection, connecting to the output of the MLP\n",
        "        encoded_patches = layers.Add()([x3, x2])\n",
        "\n",
        "    # Layer normalization and Global average pooling\n",
        "    representation = layers.LayerNormalization(epsilon=layer_norm_eps)(encoded_patches)\n",
        "    representation = layers.GlobalAvgPool1D()(representation)\n",
        "\n",
        "    # Classify the outputs using a dense layer with softmax activation\n",
        "    outputs = layers.Dense(units=num_classes, activation=\"softmax\")(representation)\n",
        "\n",
        "    # Create the Keras model, connecting the input and output layers\n",
        "    model = keras.Model(inputs=inputs, outputs=outputs)\n",
        "\n",
        "    return model\n"
      ],
      "metadata": {
        "id": "ifhzCqnTdzna",
        "execution": {
          "iopub.status.busy": "2024-02-29T14:49:43.675975Z",
          "iopub.execute_input": "2024-02-29T14:49:43.676257Z",
          "iopub.status.idle": "2024-02-29T14:49:43.686094Z",
          "shell.execute_reply.started": "2024-02-29T14:49:43.676226Z",
          "shell.execute_reply": "2024-02-29T14:49:43.685137Z"
        },
        "trusted": true
      },
      "execution_count": null,
      "outputs": []
    },
    {
      "cell_type": "markdown",
      "source": [
        "# Training the model"
      ],
      "metadata": {
        "id": "7Sr6mg9wg_zz"
      }
    },
    {
      "cell_type": "code",
      "source": [
        "def run_experiment():\n",
        "    tf.keras.utils.register_keras_serializable('TubeletEmbedding', TubeletEmbedding)\n",
        "    tf.keras.utils.register_keras_serializable('PositionalEncoder', PositionalEncoder)\n",
        "\n",
        "    # Initialize model\n",
        "    model = create_vivit_classifier(\n",
        "        tubelet_embedder=TubeletEmbedding(\n",
        "            embed_dim=PROJECTION_DIM, patch_size=PATCH_SIZE\n",
        "        ),\n",
        "        positional_encoder=PositionalEncoder(embed_dim=PROJECTION_DIM),\n",
        "    )\n",
        "\n",
        "    # Compile the model with the optimizer, loss function\n",
        "    # and the metrics.\n",
        "    optimizer = keras.optimizers.Adam(learning_rate=LEARNING_RATE)\n",
        "    model.compile(\n",
        "        optimizer=optimizer,\n",
        "        loss=tf.keras.losses.BinaryCrossentropy(from_logits=False),\n",
        "        metrics=[\"accuracy\"],\n",
        "    )\n",
        "\n",
        "    filepath=\"best_model_0.5_dropout_16_layers.h5\"\n",
        "    checkpoint = keras.callbacks.ModelCheckpoint(filepath, monitor='val_accuracy', verbose=1, save_best_only=True, mode = 'auto')\n",
        "\n",
        "\n",
        "    early_stop = keras.callbacks.EarlyStopping(monitor = 'val_accuracy', patience=20, restore_best_weights=True)\n",
        "    my_callbacks = [checkpoint]\n",
        "\n",
        "    # Train the model.\n",
        "    history = model.fit(trainloader,validation_data = testloader, epochs=EPOCHS, callbacks = my_callbacks)\n",
        "\n",
        "    _, accuracy = model.evaluate(testloader)\n",
        "    print(f\"Test accuracy: {round(accuracy * 100, 2)}%\")\n",
        "\n",
        "    return model, history\n",
        "\n",
        "\n",
        "model, history = run_experiment()"
      ],
      "metadata": {
        "id": "FTWkVjfnd6xK",
        "execution": {
          "iopub.status.busy": "2024-02-29T14:49:46.154234Z",
          "iopub.execute_input": "2024-02-29T14:49:46.154607Z",
          "iopub.status.idle": "2024-02-29T15:08:08.322231Z",
          "shell.execute_reply.started": "2024-02-29T14:49:46.154576Z",
          "shell.execute_reply": "2024-02-29T15:08:08.321357Z"
        },
        "trusted": true,
        "outputId": "443a5535-9826-4bea-93d9-80b553c47395"
      },
      "execution_count": null,
      "outputs": [
        {
          "name": "stdout",
          "text": "Epoch 1/100\n",
          "output_type": "stream"
        },
        {
          "name": "stderr",
          "text": "WARNING: All log messages before absl::InitializeLog() is called are written to STDERR\nI0000 00:00:1709218223.514653    8182 device_compiler.h:186] Compiled cluster using XLA!  This line is logged at most once for the lifetime of the process.\n",
          "output_type": "stream"
        },
        {
          "name": "stdout",
          "text": "57/57 [==============================] - ETA: 0s - loss: 0.7845 - accuracy: 0.5050\nEpoch 1: val_accuracy improved from -inf to 0.50000, saving model to best_model_0.5_dropout_16_layers.h5\n",
          "output_type": "stream"
        },
        {
          "name": "stderr",
          "text": "/opt/conda/lib/python3.10/site-packages/keras/src/engine/training.py:3103: UserWarning: You are saving your model as an HDF5 file via `model.save()`. This file format is considered legacy. We recommend using instead the native Keras format, e.g. `model.save('my_model.keras')`.\n  saving_api.save_model(\n",
          "output_type": "stream"
        },
        {
          "name": "stdout",
          "text": "57/57 [==============================] - 62s 233ms/step - loss: 0.7845 - accuracy: 0.5050 - val_loss: 0.6981 - val_accuracy: 0.5000\nEpoch 2/100\n57/57 [==============================] - ETA: 0s - loss: 0.7078 - accuracy: 0.4961\nEpoch 2: val_accuracy did not improve from 0.50000\n57/57 [==============================] - 10s 177ms/step - loss: 0.7078 - accuracy: 0.4961 - val_loss: 0.6928 - val_accuracy: 0.5000\nEpoch 3/100\n57/57 [==============================] - ETA: 0s - loss: 0.7024 - accuracy: 0.4989\nEpoch 3: val_accuracy improved from 0.50000 to 0.58500, saving model to best_model_0.5_dropout_16_layers.h5\n57/57 [==============================] - 11s 190ms/step - loss: 0.7024 - accuracy: 0.4989 - val_loss: 0.6888 - val_accuracy: 0.5850\nEpoch 4/100\n57/57 [==============================] - ETA: 0s - loss: 0.6797 - accuracy: 0.5417\nEpoch 4: val_accuracy improved from 0.58500 to 0.60000, saving model to best_model_0.5_dropout_16_layers.h5\n57/57 [==============================] - 11s 192ms/step - loss: 0.6797 - accuracy: 0.5417 - val_loss: 0.6623 - val_accuracy: 0.6000\nEpoch 5/100\n57/57 [==============================] - ETA: 0s - loss: 0.6775 - accuracy: 0.5489\nEpoch 5: val_accuracy did not improve from 0.60000\n57/57 [==============================] - 10s 180ms/step - loss: 0.6775 - accuracy: 0.5489 - val_loss: 0.6666 - val_accuracy: 0.5800\nEpoch 6/100\n57/57 [==============================] - ETA: 0s - loss: 0.6752 - accuracy: 0.5400\nEpoch 6: val_accuracy did not improve from 0.60000\n57/57 [==============================] - 10s 182ms/step - loss: 0.6752 - accuracy: 0.5400 - val_loss: 0.6635 - val_accuracy: 0.5800\nEpoch 7/100\n57/57 [==============================] - ETA: 0s - loss: 0.6749 - accuracy: 0.5456\nEpoch 7: val_accuracy did not improve from 0.60000\n57/57 [==============================] - 10s 182ms/step - loss: 0.6749 - accuracy: 0.5456 - val_loss: 0.6564 - val_accuracy: 0.5900\nEpoch 8/100\n57/57 [==============================] - ETA: 0s - loss: 0.6644 - accuracy: 0.5767\nEpoch 8: val_accuracy improved from 0.60000 to 0.60500, saving model to best_model_0.5_dropout_16_layers.h5\n57/57 [==============================] - 11s 193ms/step - loss: 0.6644 - accuracy: 0.5767 - val_loss: 0.6579 - val_accuracy: 0.6050\nEpoch 9/100\n57/57 [==============================] - ETA: 0s - loss: 0.6638 - accuracy: 0.5606\nEpoch 9: val_accuracy did not improve from 0.60500\n57/57 [==============================] - 10s 181ms/step - loss: 0.6638 - accuracy: 0.5606 - val_loss: 0.6897 - val_accuracy: 0.5950\nEpoch 10/100\n57/57 [==============================] - ETA: 0s - loss: 0.6641 - accuracy: 0.5689\nEpoch 10: val_accuracy improved from 0.60500 to 0.61000, saving model to best_model_0.5_dropout_16_layers.h5\n57/57 [==============================] - 11s 192ms/step - loss: 0.6641 - accuracy: 0.5689 - val_loss: 0.6747 - val_accuracy: 0.6100\nEpoch 11/100\n57/57 [==============================] - ETA: 0s - loss: 0.6629 - accuracy: 0.5811\nEpoch 11: val_accuracy did not improve from 0.61000\n57/57 [==============================] - 10s 179ms/step - loss: 0.6629 - accuracy: 0.5811 - val_loss: 0.6912 - val_accuracy: 0.6050\nEpoch 12/100\n57/57 [==============================] - ETA: 0s - loss: 0.6507 - accuracy: 0.6156\nEpoch 12: val_accuracy improved from 0.61000 to 0.63000, saving model to best_model_0.5_dropout_16_layers.h5\n57/57 [==============================] - 11s 193ms/step - loss: 0.6507 - accuracy: 0.6156 - val_loss: 0.6881 - val_accuracy: 0.6300\nEpoch 13/100\n57/57 [==============================] - ETA: 0s - loss: 0.6479 - accuracy: 0.6083\nEpoch 13: val_accuracy did not improve from 0.63000\n57/57 [==============================] - 10s 180ms/step - loss: 0.6479 - accuracy: 0.6083 - val_loss: 0.7099 - val_accuracy: 0.5600\nEpoch 14/100\n57/57 [==============================] - ETA: 0s - loss: 0.6395 - accuracy: 0.5961\nEpoch 14: val_accuracy did not improve from 0.63000\n57/57 [==============================] - 10s 181ms/step - loss: 0.6395 - accuracy: 0.5961 - val_loss: 0.7265 - val_accuracy: 0.6200\nEpoch 15/100\n57/57 [==============================] - ETA: 0s - loss: 0.6310 - accuracy: 0.6244\nEpoch 15: val_accuracy improved from 0.63000 to 0.67500, saving model to best_model_0.5_dropout_16_layers.h5\n57/57 [==============================] - 11s 193ms/step - loss: 0.6310 - accuracy: 0.6244 - val_loss: 0.6559 - val_accuracy: 0.6750\nEpoch 16/100\n57/57 [==============================] - ETA: 0s - loss: 0.6536 - accuracy: 0.5878\nEpoch 16: val_accuracy did not improve from 0.67500\n57/57 [==============================] - 10s 180ms/step - loss: 0.6536 - accuracy: 0.5878 - val_loss: 0.6492 - val_accuracy: 0.6350\nEpoch 17/100\n57/57 [==============================] - ETA: 0s - loss: 0.6155 - accuracy: 0.6644\nEpoch 17: val_accuracy did not improve from 0.67500\n57/57 [==============================] - 10s 181ms/step - loss: 0.6155 - accuracy: 0.6644 - val_loss: 0.7709 - val_accuracy: 0.5350\nEpoch 18/100\n57/57 [==============================] - ETA: 0s - loss: 0.6499 - accuracy: 0.6156\nEpoch 18: val_accuracy did not improve from 0.67500\n57/57 [==============================] - 10s 181ms/step - loss: 0.6499 - accuracy: 0.6156 - val_loss: 0.6809 - val_accuracy: 0.5450\nEpoch 19/100\n57/57 [==============================] - ETA: 0s - loss: 0.6089 - accuracy: 0.6589\nEpoch 19: val_accuracy improved from 0.67500 to 0.68500, saving model to best_model_0.5_dropout_16_layers.h5\n57/57 [==============================] - 11s 192ms/step - loss: 0.6089 - accuracy: 0.6589 - val_loss: 0.5777 - val_accuracy: 0.6850\nEpoch 20/100\n57/57 [==============================] - ETA: 0s - loss: 0.5163 - accuracy: 0.7433\nEpoch 20: val_accuracy improved from 0.68500 to 0.71000, saving model to best_model_0.5_dropout_16_layers.h5\n57/57 [==============================] - 11s 192ms/step - loss: 0.5163 - accuracy: 0.7433 - val_loss: 0.5302 - val_accuracy: 0.7100\nEpoch 21/100\n57/57 [==============================] - ETA: 0s - loss: 0.5199 - accuracy: 0.7439\nEpoch 21: val_accuracy did not improve from 0.71000\n57/57 [==============================] - 10s 181ms/step - loss: 0.5199 - accuracy: 0.7439 - val_loss: 0.6012 - val_accuracy: 0.6750\nEpoch 22/100\n57/57 [==============================] - ETA: 0s - loss: 0.4669 - accuracy: 0.7700\nEpoch 22: val_accuracy improved from 0.71000 to 0.72000, saving model to best_model_0.5_dropout_16_layers.h5\n57/57 [==============================] - 11s 192ms/step - loss: 0.4669 - accuracy: 0.7700 - val_loss: 0.5931 - val_accuracy: 0.7200\nEpoch 23/100\n57/57 [==============================] - ETA: 0s - loss: 0.4659 - accuracy: 0.7761\nEpoch 23: val_accuracy improved from 0.72000 to 0.73000, saving model to best_model_0.5_dropout_16_layers.h5\n57/57 [==============================] - 11s 192ms/step - loss: 0.4659 - accuracy: 0.7761 - val_loss: 0.5769 - val_accuracy: 0.7300\nEpoch 24/100\n57/57 [==============================] - ETA: 0s - loss: 0.4219 - accuracy: 0.8061\nEpoch 24: val_accuracy improved from 0.73000 to 0.76500, saving model to best_model_0.5_dropout_16_layers.h5\n57/57 [==============================] - 11s 193ms/step - loss: 0.4219 - accuracy: 0.8061 - val_loss: 0.5045 - val_accuracy: 0.7650\nEpoch 25/100\n57/57 [==============================] - ETA: 0s - loss: 0.3981 - accuracy: 0.8156\nEpoch 25: val_accuracy improved from 0.76500 to 0.77000, saving model to best_model_0.5_dropout_16_layers.h5\n57/57 [==============================] - 11s 193ms/step - loss: 0.3981 - accuracy: 0.8156 - val_loss: 0.5035 - val_accuracy: 0.7700\nEpoch 26/100\n57/57 [==============================] - ETA: 0s - loss: 0.3790 - accuracy: 0.8389\nEpoch 26: val_accuracy did not improve from 0.77000\n57/57 [==============================] - 10s 181ms/step - loss: 0.3790 - accuracy: 0.8389 - val_loss: 0.5832 - val_accuracy: 0.7600\nEpoch 27/100\n57/57 [==============================] - ETA: 0s - loss: 0.3573 - accuracy: 0.8372\nEpoch 27: val_accuracy did not improve from 0.77000\n57/57 [==============================] - 10s 181ms/step - loss: 0.3573 - accuracy: 0.8372 - val_loss: 0.4896 - val_accuracy: 0.7550\nEpoch 28/100\n57/57 [==============================] - ETA: 0s - loss: 0.3818 - accuracy: 0.8228\nEpoch 28: val_accuracy improved from 0.77000 to 0.78000, saving model to best_model_0.5_dropout_16_layers.h5\n57/57 [==============================] - 11s 193ms/step - loss: 0.3818 - accuracy: 0.8228 - val_loss: 0.5308 - val_accuracy: 0.7800\nEpoch 29/100\n57/57 [==============================] - ETA: 0s - loss: 0.3462 - accuracy: 0.8428\nEpoch 29: val_accuracy did not improve from 0.78000\n57/57 [==============================] - 10s 181ms/step - loss: 0.3462 - accuracy: 0.8428 - val_loss: 0.5194 - val_accuracy: 0.7800\nEpoch 30/100\n57/57 [==============================] - ETA: 0s - loss: 0.3344 - accuracy: 0.8500\nEpoch 30: val_accuracy did not improve from 0.78000\n57/57 [==============================] - 10s 181ms/step - loss: 0.3344 - accuracy: 0.8500 - val_loss: 0.4537 - val_accuracy: 0.7650\nEpoch 31/100\n57/57 [==============================] - ETA: 0s - loss: 0.3157 - accuracy: 0.8600\nEpoch 31: val_accuracy improved from 0.78000 to 0.82000, saving model to best_model_0.5_dropout_16_layers.h5\n57/57 [==============================] - 11s 192ms/step - loss: 0.3157 - accuracy: 0.8600 - val_loss: 0.4515 - val_accuracy: 0.8200\nEpoch 32/100\n57/57 [==============================] - ETA: 0s - loss: 0.3048 - accuracy: 0.8694\nEpoch 32: val_accuracy did not improve from 0.82000\n57/57 [==============================] - 10s 181ms/step - loss: 0.3048 - accuracy: 0.8694 - val_loss: 0.4918 - val_accuracy: 0.7800\nEpoch 33/100\n57/57 [==============================] - ETA: 0s - loss: 0.2746 - accuracy: 0.8861\nEpoch 33: val_accuracy did not improve from 0.82000\n57/57 [==============================] - 10s 181ms/step - loss: 0.2746 - accuracy: 0.8861 - val_loss: 0.4823 - val_accuracy: 0.7850\nEpoch 34/100\n57/57 [==============================] - ETA: 0s - loss: 0.2735 - accuracy: 0.8778\nEpoch 34: val_accuracy did not improve from 0.82000\n57/57 [==============================] - 10s 181ms/step - loss: 0.2735 - accuracy: 0.8778 - val_loss: 0.4556 - val_accuracy: 0.8100\nEpoch 35/100\n57/57 [==============================] - ETA: 0s - loss: 0.2638 - accuracy: 0.8867\nEpoch 35: val_accuracy did not improve from 0.82000\n57/57 [==============================] - 10s 181ms/step - loss: 0.2638 - accuracy: 0.8867 - val_loss: 0.4521 - val_accuracy: 0.8100\nEpoch 36/100\n57/57 [==============================] - ETA: 0s - loss: 0.2657 - accuracy: 0.8861\nEpoch 36: val_accuracy did not improve from 0.82000\n57/57 [==============================] - 10s 181ms/step - loss: 0.2657 - accuracy: 0.8861 - val_loss: 0.4779 - val_accuracy: 0.7800\nEpoch 37/100\n57/57 [==============================] - ETA: 0s - loss: 0.2380 - accuracy: 0.9006\nEpoch 37: val_accuracy did not improve from 0.82000\n57/57 [==============================] - 10s 180ms/step - loss: 0.2380 - accuracy: 0.9006 - val_loss: 0.5947 - val_accuracy: 0.7750\nEpoch 38/100\n57/57 [==============================] - ETA: 0s - loss: 0.2091 - accuracy: 0.9183\nEpoch 38: val_accuracy did not improve from 0.82000\n57/57 [==============================] - 10s 182ms/step - loss: 0.2091 - accuracy: 0.9183 - val_loss: 0.5528 - val_accuracy: 0.8100\nEpoch 39/100\n57/57 [==============================] - ETA: 0s - loss: 0.2234 - accuracy: 0.8994\nEpoch 39: val_accuracy did not improve from 0.82000\n57/57 [==============================] - 10s 181ms/step - loss: 0.2234 - accuracy: 0.8994 - val_loss: 0.4656 - val_accuracy: 0.8000\nEpoch 40/100\n57/57 [==============================] - ETA: 0s - loss: 0.2074 - accuracy: 0.9144\nEpoch 40: val_accuracy did not improve from 0.82000\n57/57 [==============================] - 10s 180ms/step - loss: 0.2074 - accuracy: 0.9144 - val_loss: 0.5812 - val_accuracy: 0.7900\nEpoch 41/100\n57/57 [==============================] - ETA: 0s - loss: 0.1886 - accuracy: 0.9261\nEpoch 41: val_accuracy did not improve from 0.82000\n57/57 [==============================] - 10s 181ms/step - loss: 0.1886 - accuracy: 0.9261 - val_loss: 0.6456 - val_accuracy: 0.7950\nEpoch 42/100\n57/57 [==============================] - ETA: 0s - loss: 0.1857 - accuracy: 0.9256\nEpoch 42: val_accuracy did not improve from 0.82000\n57/57 [==============================] - 10s 182ms/step - loss: 0.1857 - accuracy: 0.9256 - val_loss: 0.5404 - val_accuracy: 0.8150\nEpoch 43/100\n57/57 [==============================] - ETA: 0s - loss: 0.2302 - accuracy: 0.8994\nEpoch 43: val_accuracy did not improve from 0.82000\n57/57 [==============================] - 10s 181ms/step - loss: 0.2302 - accuracy: 0.8994 - val_loss: 0.5708 - val_accuracy: 0.8100\nEpoch 44/100\n57/57 [==============================] - ETA: 0s - loss: 0.2056 - accuracy: 0.9239\nEpoch 44: val_accuracy did not improve from 0.82000\n57/57 [==============================] - 10s 181ms/step - loss: 0.2056 - accuracy: 0.9239 - val_loss: 0.5238 - val_accuracy: 0.8150\nEpoch 45/100\n57/57 [==============================] - ETA: 0s - loss: 0.1749 - accuracy: 0.9289\nEpoch 45: val_accuracy did not improve from 0.82000\n57/57 [==============================] - 10s 181ms/step - loss: 0.1749 - accuracy: 0.9289 - val_loss: 0.4855 - val_accuracy: 0.8100\nEpoch 46/100\n57/57 [==============================] - ETA: 0s - loss: 0.1402 - accuracy: 0.9528\nEpoch 46: val_accuracy did not improve from 0.82000\n57/57 [==============================] - 10s 180ms/step - loss: 0.1402 - accuracy: 0.9528 - val_loss: 0.6227 - val_accuracy: 0.7950\nEpoch 47/100\n57/57 [==============================] - ETA: 0s - loss: 0.1226 - accuracy: 0.9528\nEpoch 47: val_accuracy improved from 0.82000 to 0.83000, saving model to best_model_0.5_dropout_16_layers.h5\n57/57 [==============================] - 11s 193ms/step - loss: 0.1226 - accuracy: 0.9528 - val_loss: 0.5727 - val_accuracy: 0.8300\nEpoch 48/100\n57/57 [==============================] - ETA: 0s - loss: 0.1056 - accuracy: 0.9583\nEpoch 48: val_accuracy did not improve from 0.83000\n57/57 [==============================] - 10s 181ms/step - loss: 0.1056 - accuracy: 0.9583 - val_loss: 0.8035 - val_accuracy: 0.8100\nEpoch 49/100\n57/57 [==============================] - ETA: 0s - loss: 0.1103 - accuracy: 0.9578\nEpoch 49: val_accuracy improved from 0.83000 to 0.84500, saving model to best_model_0.5_dropout_16_layers.h5\n57/57 [==============================] - 11s 192ms/step - loss: 0.1103 - accuracy: 0.9578 - val_loss: 0.5243 - val_accuracy: 0.8450\nEpoch 50/100\n57/57 [==============================] - ETA: 0s - loss: 0.0948 - accuracy: 0.9672\nEpoch 50: val_accuracy did not improve from 0.84500\n57/57 [==============================] - 10s 181ms/step - loss: 0.0948 - accuracy: 0.9672 - val_loss: 0.6163 - val_accuracy: 0.8250\nEpoch 51/100\n57/57 [==============================] - ETA: 0s - loss: 0.1251 - accuracy: 0.9517\nEpoch 51: val_accuracy did not improve from 0.84500\n57/57 [==============================] - 10s 181ms/step - loss: 0.1251 - accuracy: 0.9517 - val_loss: 0.5008 - val_accuracy: 0.8350\nEpoch 52/100\n57/57 [==============================] - ETA: 0s - loss: 0.1045 - accuracy: 0.9589\nEpoch 52: val_accuracy did not improve from 0.84500\n57/57 [==============================] - 10s 181ms/step - loss: 0.1045 - accuracy: 0.9589 - val_loss: 0.4706 - val_accuracy: 0.8350\nEpoch 53/100\n57/57 [==============================] - ETA: 0s - loss: 0.1038 - accuracy: 0.9611\nEpoch 53: val_accuracy did not improve from 0.84500\n57/57 [==============================] - 10s 181ms/step - loss: 0.1038 - accuracy: 0.9611 - val_loss: 0.6955 - val_accuracy: 0.7850\nEpoch 54/100\n57/57 [==============================] - ETA: 0s - loss: 0.1213 - accuracy: 0.9511\nEpoch 54: val_accuracy did not improve from 0.84500\n57/57 [==============================] - 10s 181ms/step - loss: 0.1213 - accuracy: 0.9511 - val_loss: 0.6586 - val_accuracy: 0.8200\nEpoch 55/100\n57/57 [==============================] - ETA: 0s - loss: 0.1353 - accuracy: 0.9500\nEpoch 55: val_accuracy did not improve from 0.84500\n57/57 [==============================] - 10s 181ms/step - loss: 0.1353 - accuracy: 0.9500 - val_loss: 0.7652 - val_accuracy: 0.8100\nEpoch 56/100\n57/57 [==============================] - ETA: 0s - loss: 0.1377 - accuracy: 0.9417\nEpoch 56: val_accuracy did not improve from 0.84500\n57/57 [==============================] - 10s 181ms/step - loss: 0.1377 - accuracy: 0.9417 - val_loss: 0.9209 - val_accuracy: 0.7950\nEpoch 57/100\n57/57 [==============================] - ETA: 0s - loss: 0.1354 - accuracy: 0.9539\nEpoch 57: val_accuracy did not improve from 0.84500\n57/57 [==============================] - 10s 181ms/step - loss: 0.1354 - accuracy: 0.9539 - val_loss: 0.6902 - val_accuracy: 0.8050\nEpoch 58/100\n57/57 [==============================] - ETA: 0s - loss: 0.0910 - accuracy: 0.9700\nEpoch 58: val_accuracy did not improve from 0.84500\n57/57 [==============================] - 10s 181ms/step - loss: 0.0910 - accuracy: 0.9700 - val_loss: 0.5818 - val_accuracy: 0.8300\nEpoch 59/100\n57/57 [==============================] - ETA: 0s - loss: 0.0467 - accuracy: 0.9839\nEpoch 59: val_accuracy did not improve from 0.84500\n57/57 [==============================] - 10s 181ms/step - loss: 0.0467 - accuracy: 0.9839 - val_loss: 0.7847 - val_accuracy: 0.8400\nEpoch 60/100\n57/57 [==============================] - ETA: 0s - loss: 0.0518 - accuracy: 0.9817\nEpoch 60: val_accuracy did not improve from 0.84500\n57/57 [==============================] - 10s 182ms/step - loss: 0.0518 - accuracy: 0.9817 - val_loss: 0.7740 - val_accuracy: 0.8450\nEpoch 61/100\n57/57 [==============================] - ETA: 0s - loss: 0.0451 - accuracy: 0.9806\nEpoch 61: val_accuracy did not improve from 0.84500\n57/57 [==============================] - 10s 181ms/step - loss: 0.0451 - accuracy: 0.9806 - val_loss: 0.8304 - val_accuracy: 0.8250\nEpoch 62/100\n57/57 [==============================] - ETA: 0s - loss: 0.0343 - accuracy: 0.9878\nEpoch 62: val_accuracy did not improve from 0.84500\n57/57 [==============================] - 10s 181ms/step - loss: 0.0343 - accuracy: 0.9878 - val_loss: 0.8851 - val_accuracy: 0.8450\nEpoch 63/100\n57/57 [==============================] - ETA: 0s - loss: 0.0453 - accuracy: 0.9822\nEpoch 63: val_accuracy did not improve from 0.84500\n57/57 [==============================] - 10s 181ms/step - loss: 0.0453 - accuracy: 0.9822 - val_loss: 0.7384 - val_accuracy: 0.8350\nEpoch 64/100\n57/57 [==============================] - ETA: 0s - loss: 0.0730 - accuracy: 0.9728\nEpoch 64: val_accuracy improved from 0.84500 to 0.87000, saving model to best_model_0.5_dropout_16_layers.h5\n57/57 [==============================] - 11s 192ms/step - loss: 0.0730 - accuracy: 0.9728 - val_loss: 0.6485 - val_accuracy: 0.8700\nEpoch 65/100\n57/57 [==============================] - ETA: 0s - loss: 0.0351 - accuracy: 0.9878\nEpoch 65: val_accuracy did not improve from 0.87000\n57/57 [==============================] - 10s 181ms/step - loss: 0.0351 - accuracy: 0.9878 - val_loss: 0.6980 - val_accuracy: 0.8600\nEpoch 66/100\n57/57 [==============================] - ETA: 0s - loss: 0.0594 - accuracy: 0.9844\nEpoch 66: val_accuracy did not improve from 0.87000\n57/57 [==============================] - 10s 182ms/step - loss: 0.0594 - accuracy: 0.9844 - val_loss: 0.6772 - val_accuracy: 0.8450\nEpoch 67/100\n57/57 [==============================] - ETA: 0s - loss: 0.0397 - accuracy: 0.9850\nEpoch 67: val_accuracy did not improve from 0.87000\n57/57 [==============================] - 10s 181ms/step - loss: 0.0397 - accuracy: 0.9850 - val_loss: 0.5881 - val_accuracy: 0.8650\nEpoch 68/100\n57/57 [==============================] - ETA: 0s - loss: 0.0430 - accuracy: 0.9828\nEpoch 68: val_accuracy did not improve from 0.87000\n57/57 [==============================] - 10s 181ms/step - loss: 0.0430 - accuracy: 0.9828 - val_loss: 0.6715 - val_accuracy: 0.8650\nEpoch 69/100\n57/57 [==============================] - ETA: 0s - loss: 0.0360 - accuracy: 0.9889\nEpoch 69: val_accuracy did not improve from 0.87000\n57/57 [==============================] - 10s 181ms/step - loss: 0.0360 - accuracy: 0.9889 - val_loss: 0.8155 - val_accuracy: 0.8550\nEpoch 70/100\n57/57 [==============================] - ETA: 0s - loss: 0.0339 - accuracy: 0.9894\nEpoch 70: val_accuracy did not improve from 0.87000\n57/57 [==============================] - 10s 180ms/step - loss: 0.0339 - accuracy: 0.9894 - val_loss: 0.7371 - val_accuracy: 0.8500\nEpoch 71/100\n57/57 [==============================] - ETA: 0s - loss: 0.0241 - accuracy: 0.9928\nEpoch 71: val_accuracy did not improve from 0.87000\n57/57 [==============================] - 10s 181ms/step - loss: 0.0241 - accuracy: 0.9928 - val_loss: 0.7775 - val_accuracy: 0.8600\nEpoch 72/100\n57/57 [==============================] - ETA: 0s - loss: 0.0152 - accuracy: 0.9967\nEpoch 72: val_accuracy did not improve from 0.87000\n57/57 [==============================] - 10s 181ms/step - loss: 0.0152 - accuracy: 0.9967 - val_loss: 0.7491 - val_accuracy: 0.8700\nEpoch 73/100\n57/57 [==============================] - ETA: 0s - loss: 0.0263 - accuracy: 0.9917\nEpoch 73: val_accuracy improved from 0.87000 to 0.88000, saving model to best_model_0.5_dropout_16_layers.h5\n57/57 [==============================] - 11s 192ms/step - loss: 0.0263 - accuracy: 0.9917 - val_loss: 0.6414 - val_accuracy: 0.8800\nEpoch 74/100\n57/57 [==============================] - ETA: 0s - loss: 0.0175 - accuracy: 0.9933\nEpoch 74: val_accuracy did not improve from 0.88000\n57/57 [==============================] - 10s 181ms/step - loss: 0.0175 - accuracy: 0.9933 - val_loss: 0.9127 - val_accuracy: 0.8450\nEpoch 75/100\n57/57 [==============================] - ETA: 0s - loss: 0.0360 - accuracy: 0.9900\nEpoch 75: val_accuracy improved from 0.88000 to 0.88500, saving model to best_model_0.5_dropout_16_layers.h5\n57/57 [==============================] - 11s 193ms/step - loss: 0.0360 - accuracy: 0.9900 - val_loss: 0.6093 - val_accuracy: 0.8850\nEpoch 76/100\n57/57 [==============================] - ETA: 0s - loss: 0.0327 - accuracy: 0.9906\nEpoch 76: val_accuracy did not improve from 0.88500\n57/57 [==============================] - 10s 181ms/step - loss: 0.0327 - accuracy: 0.9906 - val_loss: 0.6386 - val_accuracy: 0.8600\nEpoch 77/100\n57/57 [==============================] - ETA: 0s - loss: 0.0214 - accuracy: 0.9933\nEpoch 77: val_accuracy did not improve from 0.88500\n57/57 [==============================] - 10s 180ms/step - loss: 0.0214 - accuracy: 0.9933 - val_loss: 0.6499 - val_accuracy: 0.8850\nEpoch 78/100\n57/57 [==============================] - ETA: 0s - loss: 0.0154 - accuracy: 0.9956\nEpoch 78: val_accuracy did not improve from 0.88500\n57/57 [==============================] - 10s 181ms/step - loss: 0.0154 - accuracy: 0.9956 - val_loss: 0.9702 - val_accuracy: 0.8450\nEpoch 79/100\n57/57 [==============================] - ETA: 0s - loss: 0.0275 - accuracy: 0.9911\nEpoch 79: val_accuracy did not improve from 0.88500\n57/57 [==============================] - 10s 181ms/step - loss: 0.0275 - accuracy: 0.9911 - val_loss: 0.7481 - val_accuracy: 0.8450\nEpoch 80/100\n57/57 [==============================] - ETA: 0s - loss: 0.0240 - accuracy: 0.9894\nEpoch 80: val_accuracy did not improve from 0.88500\n57/57 [==============================] - 10s 181ms/step - loss: 0.0240 - accuracy: 0.9894 - val_loss: 1.0149 - val_accuracy: 0.8250\nEpoch 81/100\n57/57 [==============================] - ETA: 0s - loss: 0.0462 - accuracy: 0.9856\nEpoch 81: val_accuracy did not improve from 0.88500\n57/57 [==============================] - 10s 181ms/step - loss: 0.0462 - accuracy: 0.9856 - val_loss: 0.8141 - val_accuracy: 0.8350\nEpoch 82/100\n57/57 [==============================] - ETA: 0s - loss: 0.0160 - accuracy: 0.9944\nEpoch 82: val_accuracy did not improve from 0.88500\n57/57 [==============================] - 10s 181ms/step - loss: 0.0160 - accuracy: 0.9944 - val_loss: 0.9632 - val_accuracy: 0.8500\nEpoch 83/100\n57/57 [==============================] - ETA: 0s - loss: 0.0279 - accuracy: 0.9889\nEpoch 83: val_accuracy did not improve from 0.88500\n57/57 [==============================] - 10s 181ms/step - loss: 0.0279 - accuracy: 0.9889 - val_loss: 1.0162 - val_accuracy: 0.8050\nEpoch 84/100\n57/57 [==============================] - ETA: 0s - loss: 0.0153 - accuracy: 0.9956\nEpoch 84: val_accuracy did not improve from 0.88500\n57/57 [==============================] - 10s 181ms/step - loss: 0.0153 - accuracy: 0.9956 - val_loss: 0.9143 - val_accuracy: 0.8500\nEpoch 85/100\n57/57 [==============================] - ETA: 0s - loss: 0.0112 - accuracy: 0.9967\nEpoch 85: val_accuracy did not improve from 0.88500\n57/57 [==============================] - 10s 180ms/step - loss: 0.0112 - accuracy: 0.9967 - val_loss: 1.1958 - val_accuracy: 0.8050\nEpoch 86/100\n57/57 [==============================] - ETA: 0s - loss: 0.0157 - accuracy: 0.9956\nEpoch 86: val_accuracy did not improve from 0.88500\n57/57 [==============================] - 10s 181ms/step - loss: 0.0157 - accuracy: 0.9956 - val_loss: 1.2000 - val_accuracy: 0.8200\nEpoch 87/100\n57/57 [==============================] - ETA: 0s - loss: 0.0168 - accuracy: 0.9928\nEpoch 87: val_accuracy did not improve from 0.88500\n57/57 [==============================] - 10s 181ms/step - loss: 0.0168 - accuracy: 0.9928 - val_loss: 1.1276 - val_accuracy: 0.8350\nEpoch 88/100\n57/57 [==============================] - ETA: 0s - loss: 0.0548 - accuracy: 0.9794\nEpoch 88: val_accuracy did not improve from 0.88500\n57/57 [==============================] - 10s 181ms/step - loss: 0.0548 - accuracy: 0.9794 - val_loss: 0.6841 - val_accuracy: 0.8450\nEpoch 89/100\n57/57 [==============================] - ETA: 0s - loss: 0.0240 - accuracy: 0.9922\nEpoch 89: val_accuracy did not improve from 0.88500\n57/57 [==============================] - 10s 181ms/step - loss: 0.0240 - accuracy: 0.9922 - val_loss: 0.8204 - val_accuracy: 0.8500\nEpoch 90/100\n57/57 [==============================] - ETA: 0s - loss: 0.0180 - accuracy: 0.9939\nEpoch 90: val_accuracy did not improve from 0.88500\n57/57 [==============================] - 10s 182ms/step - loss: 0.0180 - accuracy: 0.9939 - val_loss: 1.2515 - val_accuracy: 0.8100\nEpoch 91/100\n57/57 [==============================] - ETA: 0s - loss: 0.0519 - accuracy: 0.9800\nEpoch 91: val_accuracy did not improve from 0.88500\n57/57 [==============================] - 10s 181ms/step - loss: 0.0519 - accuracy: 0.9800 - val_loss: 0.9120 - val_accuracy: 0.8400\nEpoch 92/100\n57/57 [==============================] - ETA: 0s - loss: 0.0278 - accuracy: 0.9889\nEpoch 92: val_accuracy did not improve from 0.88500\n57/57 [==============================] - 10s 180ms/step - loss: 0.0278 - accuracy: 0.9889 - val_loss: 0.8632 - val_accuracy: 0.8400\nEpoch 93/100\n57/57 [==============================] - ETA: 0s - loss: 0.0116 - accuracy: 0.9967\nEpoch 93: val_accuracy did not improve from 0.88500\n57/57 [==============================] - 10s 181ms/step - loss: 0.0116 - accuracy: 0.9967 - val_loss: 1.1282 - val_accuracy: 0.8200\nEpoch 94/100\n57/57 [==============================] - ETA: 0s - loss: 0.0163 - accuracy: 0.9933\nEpoch 94: val_accuracy did not improve from 0.88500\n57/57 [==============================] - 10s 181ms/step - loss: 0.0163 - accuracy: 0.9933 - val_loss: 1.0490 - val_accuracy: 0.8150\nEpoch 95/100\n57/57 [==============================] - ETA: 0s - loss: 0.0123 - accuracy: 0.9961\nEpoch 95: val_accuracy did not improve from 0.88500\n57/57 [==============================] - 10s 181ms/step - loss: 0.0123 - accuracy: 0.9961 - val_loss: 1.1614 - val_accuracy: 0.8150\nEpoch 96/100\n57/57 [==============================] - ETA: 0s - loss: 0.0168 - accuracy: 0.9928\nEpoch 96: val_accuracy did not improve from 0.88500\n57/57 [==============================] - 10s 181ms/step - loss: 0.0168 - accuracy: 0.9928 - val_loss: 0.9800 - val_accuracy: 0.8500\nEpoch 97/100\n57/57 [==============================] - ETA: 0s - loss: 0.0074 - accuracy: 0.9983\nEpoch 97: val_accuracy did not improve from 0.88500\n57/57 [==============================] - 10s 181ms/step - loss: 0.0074 - accuracy: 0.9983 - val_loss: 1.0675 - val_accuracy: 0.8500\nEpoch 98/100\n57/57 [==============================] - ETA: 0s - loss: 0.0030 - accuracy: 0.9989\nEpoch 98: val_accuracy did not improve from 0.88500\n57/57 [==============================] - 10s 181ms/step - loss: 0.0030 - accuracy: 0.9989 - val_loss: 1.1864 - val_accuracy: 0.8500\nEpoch 99/100\n57/57 [==============================] - ETA: 0s - loss: 0.0083 - accuracy: 0.9978\nEpoch 99: val_accuracy did not improve from 0.88500\n57/57 [==============================] - 10s 181ms/step - loss: 0.0083 - accuracy: 0.9978 - val_loss: 1.1171 - val_accuracy: 0.8350\nEpoch 100/100\n57/57 [==============================] - ETA: 0s - loss: 0.0148 - accuracy: 0.9950\nEpoch 100: val_accuracy did not improve from 0.88500\n57/57 [==============================] - 10s 181ms/step - loss: 0.0148 - accuracy: 0.9950 - val_loss: 1.0403 - val_accuracy: 0.8300\n7/7 [==============================] - 0s 56ms/step - loss: 1.0403 - accuracy: 0.8300\nTest accuracy: 83.0%\n",
          "output_type": "stream"
        }
      ]
    },
    {
      "cell_type": "markdown",
      "source": [
        "## Visualising the Accuracy"
      ],
      "metadata": {
        "id": "vhb2d_uZg_zz"
      }
    },
    {
      "cell_type": "code",
      "source": [
        "# summarize history for accuracy\n",
        "\n",
        "plt.plot(history.history['accuracy'])\n",
        "plt.plot(history.history['val_accuracy'])\n",
        "plt.title('model accuracy')\n",
        "plt.ylabel('accuracy')\n",
        "plt.xlabel('epoch')\n",
        "plt.legend(['train'], loc='upper left')\n",
        "plt.legend(['validation'], loc='upper left')\n",
        "\n",
        "plt.show()"
      ],
      "metadata": {
        "id": "Sj-zsnm3q2Or",
        "execution": {
          "iopub.status.busy": "2024-02-29T15:11:33.494076Z",
          "iopub.execute_input": "2024-02-29T15:11:33.494772Z",
          "iopub.status.idle": "2024-02-29T15:11:33.804035Z",
          "shell.execute_reply.started": "2024-02-29T15:11:33.494741Z",
          "shell.execute_reply": "2024-02-29T15:11:33.803164Z"
        },
        "trusted": true,
        "outputId": "ee2e17d2-b60d-4a71-ecb3-d2d651be9b86"
      },
      "execution_count": null,
      "outputs": [
        {
          "output_type": "display_data",
          "data": {
            "text/plain": "<Figure size 800x550 with 1 Axes>",
            "image/png": "[encoded data removed]"
          },
          "metadata": {}
        }
      ]
    },
    {
      "cell_type": "code",
      "source": [
        "# Load the model with custom objects\n",
        "with tf.keras.utils.custom_object_scope({\n",
        "    'TubeletEmbedding': TubeletEmbedding,\n",
        "    'PositionalEncoder': PositionalEncoder\n",
        "}):\n",
        "    loaded_model = tf.keras.models.load_model(\"/kaggle/working/best_model_0.5_dropout_16_layers.h5\")\n",
        "# model = keras.load_model\n",
        "y_pred = loaded_model.predict(testloader)"
      ],
      "metadata": {
        "id": "m0J8dN7WfVY0",
        "execution": {
          "iopub.status.busy": "2024-02-29T15:11:42.693246Z",
          "iopub.execute_input": "2024-02-29T15:11:42.693630Z",
          "iopub.status.idle": "2024-02-29T15:11:49.562280Z",
          "shell.execute_reply.started": "2024-02-29T15:11:42.693600Z",
          "shell.execute_reply": "2024-02-29T15:11:49.561386Z"
        },
        "trusted": true,
        "outputId": "24556eca-c841-4847-be49-f86d189476ed"
      },
      "execution_count": null,
      "outputs": [
        {
          "name": "stdout",
          "text": "7/7 [==============================] - 3s 67ms/step\n",
          "output_type": "stream"
        }
      ]
    },
    {
      "cell_type": "markdown",
      "source": [
        "## Classification Report"
      ],
      "metadata": {
        "id": "GNg9FLyRg_z0"
      }
    },
    {
      "cell_type": "code",
      "source": [
        "y_pred_classes = [np.argmax(i) for i in y_pred]\n",
        "test_labels_classes = [np.argmax(i) for i in test_labels]\n",
        "print(classification_report(test_labels_classes, y_pred_classes))"
      ],
      "metadata": {
        "id": "mCDl49C6y_Pv",
        "execution": {
          "iopub.status.busy": "2024-02-29T15:11:52.523138Z",
          "iopub.execute_input": "2024-02-29T15:11:52.523710Z",
          "iopub.status.idle": "2024-02-29T15:11:52.549098Z",
          "shell.execute_reply.started": "2024-02-29T15:11:52.523678Z",
          "shell.execute_reply": "2024-02-29T15:11:52.548004Z"
        },
        "trusted": true,
        "outputId": "efbe385f-256e-411b-f151-ae77abf2aa06"
      },
      "execution_count": null,
      "outputs": [
        {
          "name": "stdout",
          "text": "              precision    recall  f1-score   support\n\n           0       0.86      0.92      0.89       100\n           1       0.91      0.85      0.88       100\n\n    accuracy                           0.89       200\n   macro avg       0.89      0.89      0.88       200\nweighted avg       0.89      0.89      0.88       200\n\n",
          "output_type": "stream"
        }
      ]
    },
    {
      "cell_type": "markdown",
      "source": [
        "## Confusion Matrix"
      ],
      "metadata": {
        "id": "XJHTqlGng_z0"
      }
    },
    {
      "cell_type": "code",
      "source": [
        "cm = confusion_matrix(test_labels_classes, y_pred_classes, normalize='true')  # Compute normalized confusion matrix\n",
        "disp = ConfusionMatrixDisplay(confusion_matrix=cm, display_labels=['NonViolence', 'Violence'])\n",
        "disp.plot(values_format='.2f')  # Display percentages with 2 decimal places\n",
        "plt.title('Normalized Confusion Matrix')  # Add a title to the plot\n",
        "plt.grid(None)\n",
        "\n",
        "plt.show()"
      ],
      "metadata": {
        "id": "sP7_9E1J-01j",
        "execution": {
          "iopub.status.busy": "2024-02-29T15:20:24.341183Z",
          "iopub.execute_input": "2024-02-29T15:20:24.341648Z",
          "iopub.status.idle": "2024-02-29T15:20:24.567694Z",
          "shell.execute_reply.started": "2024-02-29T15:20:24.341612Z",
          "shell.execute_reply": "2024-02-29T15:20:24.566813Z"
        },
        "trusted": true,
        "outputId": "29482231-f000-4da2-823a-ff6f6a0b7616"
      },
      "execution_count": null,
      "outputs": [
        {
          "output_type": "display_data",
          "data": {
            "text/plain": "<Figure size 800x550 with 2 Axes>",
            "image/png": "[encoded data removed]"
          },
          "metadata": {}
        }
      ]
    },
    {
      "cell_type": "markdown",
      "source": [
        "## Results\n",
        "\n",
        "The model has a precision of 86%, a recall of 92%, and an F1 Score of 89%.\n",
        "The overall accuracy is 89%.\n",
        "\n",
        "## Ways to improve the results:\n",
        " - Using data augmentation for videos: Since there are only 1000 videos per class and the duration of each video is short, we can employ data augmentation techniques such as Gaussian Blur, Random rotation, uniform perturbations and flipping in various directions.\n",
        " - Using a better regularization scheme for training.\n",
        " - Apply different variants of the transformer model: Here, we have used Spatio-temporal attention to capture both spatial and temporal features. We can also try to use Factorized encoder, Factorized self-attention, Factorized dot-product attention as detailed in the paper.\n",
        " - Hyperparameter Tuning: In this model, I have manually tuned the hyperparameters. We can apply more rigourous hyperparamter tuning methods like gridsearch to achieve the best possible paramters.\n",
        " - During the process of training, I could see that the model is often getting stuck in local minimas - this can be overcome by the use of evolutionary algorithms like genetic algorithms or particle swarm optimisation.\n",
        "\n",
        " ## References:\n",
        " - Arnab, Anurag, et al. \"Vivit: A video vision transformer.\" Proceedings of the IEEE/CVF international conference on computer vision. 2021.\n",
        "\n",
        "- Singh, Sanskar, et al. \"Video vision transformers for violence detection.\" arXiv preprint arXiv:2209.03561 (2022).\n",
        "\n"
      ],
      "metadata": {
        "id": "-DOtyLGeg_z0"
      }
    }
  ]
}